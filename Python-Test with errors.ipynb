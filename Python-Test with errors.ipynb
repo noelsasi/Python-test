{
 "cells": [
  {
   "cell_type": "code",
   "execution_count": 42,
   "metadata": {},
   "outputs": [],
   "source": [
    "import pandas as pd\n",
    "import numpy as np\n",
    "import matplotlib.pyplot as plt\n",
    "from datetime import date\n",
    "from nsepy import get_history"
   ]
  },
  {
   "cell_type": "code",
   "execution_count": 78,
   "metadata": {},
   "outputs": [],
   "source": [
    "stock_data = get_history(symbol='SBIN',\n",
    "                   start=date(2015,1,1),\n",
    "                   end=date(2015,1,10))"
   ]
  },
  {
   "cell_type": "code",
   "execution_count": 79,
   "metadata": {},
   "outputs": [
    {
     "data": {
      "text/plain": [
       "Index(['Symbol', 'Series', 'Prev Close', 'Open', 'High', 'Low', 'Last',\n",
       "       'Close', 'VWAP', 'Volume', 'Turnover', 'Trades', 'Deliverable Volume',\n",
       "       '%Deliverble'],\n",
       "      dtype='object')"
      ]
     },
     "execution_count": 79,
     "metadata": {},
     "output_type": "execute_result"
    }
   ],
   "source": [
    "stock_data.columns"
   ]
  },
  {
   "cell_type": "code",
   "execution_count": 45,
   "metadata": {},
   "outputs": [],
   "source": [
    "%matplotlib inline\n"
   ]
  },
  {
   "cell_type": "code",
   "execution_count": 80,
   "metadata": {},
   "outputs": [
    {
     "data": {
      "text/plain": [
       "Date\n",
       "2015-01-01    314.00\n",
       "2015-01-02    315.25\n",
       "2015-01-05    312.75\n",
       "2015-01-06    299.90\n",
       "2015-01-07    300.15\n",
       "2015-01-08    304.85\n",
       "2015-01-09    303.20\n",
       "Name: Close, dtype: float64"
      ]
     },
     "execution_count": 80,
     "metadata": {},
     "output_type": "execute_result"
    }
   ],
   "source": [
    "stock_data.Close"
   ]
  },
  {
   "cell_type": "code",
   "execution_count": 81,
   "metadata": {},
   "outputs": [
    {
     "data": {
      "text/html": [
       "<div>\n",
       "<style scoped>\n",
       "    .dataframe tbody tr th:only-of-type {\n",
       "        vertical-align: middle;\n",
       "    }\n",
       "\n",
       "    .dataframe tbody tr th {\n",
       "        vertical-align: top;\n",
       "    }\n",
       "\n",
       "    .dataframe thead th {\n",
       "        text-align: right;\n",
       "    }\n",
       "</style>\n",
       "<table border=\"1\" class=\"dataframe\">\n",
       "  <thead>\n",
       "    <tr style=\"text-align: right;\">\n",
       "      <th></th>\n",
       "      <th>Symbol</th>\n",
       "      <th>Series</th>\n",
       "      <th>Prev Close</th>\n",
       "      <th>Open</th>\n",
       "      <th>High</th>\n",
       "      <th>Low</th>\n",
       "      <th>Last</th>\n",
       "      <th>Close</th>\n",
       "      <th>VWAP</th>\n",
       "      <th>Volume</th>\n",
       "      <th>Turnover</th>\n",
       "      <th>Trades</th>\n",
       "      <th>Deliverable Volume</th>\n",
       "      <th>%Deliverble</th>\n",
       "    </tr>\n",
       "    <tr>\n",
       "      <th>Date</th>\n",
       "      <th></th>\n",
       "      <th></th>\n",
       "      <th></th>\n",
       "      <th></th>\n",
       "      <th></th>\n",
       "      <th></th>\n",
       "      <th></th>\n",
       "      <th></th>\n",
       "      <th></th>\n",
       "      <th></th>\n",
       "      <th></th>\n",
       "      <th></th>\n",
       "      <th></th>\n",
       "      <th></th>\n",
       "    </tr>\n",
       "  </thead>\n",
       "  <tbody>\n",
       "    <tr>\n",
       "      <th>2015-01-01</th>\n",
       "      <td>SBIN</td>\n",
       "      <td>EQ</td>\n",
       "      <td>311.85</td>\n",
       "      <td>312.45</td>\n",
       "      <td>315.00</td>\n",
       "      <td>310.70</td>\n",
       "      <td>314.0</td>\n",
       "      <td>314.00</td>\n",
       "      <td>313.67</td>\n",
       "      <td>6138488</td>\n",
       "      <td>1.925489e+14</td>\n",
       "      <td>58688</td>\n",
       "      <td>1877677</td>\n",
       "      <td>0.3059</td>\n",
       "    </tr>\n",
       "    <tr>\n",
       "      <th>2015-01-02</th>\n",
       "      <td>SBIN</td>\n",
       "      <td>EQ</td>\n",
       "      <td>314.00</td>\n",
       "      <td>314.35</td>\n",
       "      <td>318.30</td>\n",
       "      <td>314.35</td>\n",
       "      <td>315.6</td>\n",
       "      <td>315.25</td>\n",
       "      <td>316.80</td>\n",
       "      <td>9935094</td>\n",
       "      <td>3.147389e+14</td>\n",
       "      <td>79553</td>\n",
       "      <td>4221685</td>\n",
       "      <td>0.4249</td>\n",
       "    </tr>\n",
       "    <tr>\n",
       "      <th>2015-01-05</th>\n",
       "      <td>SBIN</td>\n",
       "      <td>EQ</td>\n",
       "      <td>315.25</td>\n",
       "      <td>316.25</td>\n",
       "      <td>316.80</td>\n",
       "      <td>312.10</td>\n",
       "      <td>312.8</td>\n",
       "      <td>312.75</td>\n",
       "      <td>313.84</td>\n",
       "      <td>9136716</td>\n",
       "      <td>2.867432e+14</td>\n",
       "      <td>88236</td>\n",
       "      <td>3845173</td>\n",
       "      <td>0.4208</td>\n",
       "    </tr>\n",
       "    <tr>\n",
       "      <th>2015-01-06</th>\n",
       "      <td>SBIN</td>\n",
       "      <td>EQ</td>\n",
       "      <td>312.75</td>\n",
       "      <td>310.00</td>\n",
       "      <td>311.10</td>\n",
       "      <td>298.70</td>\n",
       "      <td>299.9</td>\n",
       "      <td>299.90</td>\n",
       "      <td>305.14</td>\n",
       "      <td>15329257</td>\n",
       "      <td>4.677601e+14</td>\n",
       "      <td>169268</td>\n",
       "      <td>7424847</td>\n",
       "      <td>0.4844</td>\n",
       "    </tr>\n",
       "    <tr>\n",
       "      <th>2015-01-07</th>\n",
       "      <td>SBIN</td>\n",
       "      <td>EQ</td>\n",
       "      <td>299.90</td>\n",
       "      <td>300.00</td>\n",
       "      <td>302.55</td>\n",
       "      <td>295.15</td>\n",
       "      <td>301.4</td>\n",
       "      <td>300.15</td>\n",
       "      <td>299.95</td>\n",
       "      <td>15046745</td>\n",
       "      <td>4.513243e+14</td>\n",
       "      <td>147185</td>\n",
       "      <td>5631400</td>\n",
       "      <td>0.3743</td>\n",
       "    </tr>\n",
       "  </tbody>\n",
       "</table>\n",
       "</div>"
      ],
      "text/plain": [
       "           Symbol Series  Prev Close    Open    High     Low   Last   Close  \\\n",
       "Date                                                                          \n",
       "2015-01-01   SBIN     EQ      311.85  312.45  315.00  310.70  314.0  314.00   \n",
       "2015-01-02   SBIN     EQ      314.00  314.35  318.30  314.35  315.6  315.25   \n",
       "2015-01-05   SBIN     EQ      315.25  316.25  316.80  312.10  312.8  312.75   \n",
       "2015-01-06   SBIN     EQ      312.75  310.00  311.10  298.70  299.9  299.90   \n",
       "2015-01-07   SBIN     EQ      299.90  300.00  302.55  295.15  301.4  300.15   \n",
       "\n",
       "              VWAP    Volume      Turnover  Trades  Deliverable Volume  \\\n",
       "Date                                                                     \n",
       "2015-01-01  313.67   6138488  1.925489e+14   58688             1877677   \n",
       "2015-01-02  316.80   9935094  3.147389e+14   79553             4221685   \n",
       "2015-01-05  313.84   9136716  2.867432e+14   88236             3845173   \n",
       "2015-01-06  305.14  15329257  4.677601e+14  169268             7424847   \n",
       "2015-01-07  299.95  15046745  4.513243e+14  147185             5631400   \n",
       "\n",
       "            %Deliverble  \n",
       "Date                     \n",
       "2015-01-01       0.3059  \n",
       "2015-01-02       0.4249  \n",
       "2015-01-05       0.4208  \n",
       "2015-01-06       0.4844  \n",
       "2015-01-07       0.3743  "
      ]
     },
     "execution_count": 81,
     "metadata": {},
     "output_type": "execute_result"
    }
   ],
   "source": [
    "stock_data.head()"
   ]
  },
  {
   "cell_type": "code",
   "execution_count": 82,
   "metadata": {},
   "outputs": [],
   "source": [
    "stock_data_close = pd.DataFrame(data.Close)"
   ]
  },
  {
   "cell_type": "code",
   "execution_count": 53,
   "metadata": {},
   "outputs": [
    {
     "data": {
      "text/plain": [
       "<matplotlib.legend.Legend at 0xdba0670>"
      ]
     },
     "execution_count": 53,
     "metadata": {},
     "output_type": "execute_result"
    },
    {
     "data": {
      "image/png": "[encoded data removed]",
      "text/plain": [
       "<Figure size 1080x720 with 1 Axes>"
      ]
     },
     "metadata": {
      "needs_background": "light"
     },
     "output_type": "display_data"
    }
   ],
   "source": [
    "plt.figure(figsize=(15, 10))\n",
    "plt.grid(True)\n",
    "plt.plot(data_close['Close'], label = \"Data\")\n",
    "plt.legend(loc=2)"
   ]
  },
  {
   "cell_type": "code",
   "execution_count": 83,
   "metadata": {},
   "outputs": [
    {
     "data": {
      "text/plain": [
       "<matplotlib.axes._subplots.AxesSubplot at 0xc621410>"
      ]
     },
     "execution_count": 83,
     "metadata": {},
     "output_type": "execute_result"
    },
    {
     "data": {
      "image/png": "[encoded data removed]",
      "text/plain": [
       "<Figure size 432x288 with 2 Axes>"
      ]
     },
     "metadata": {
      "needs_background": "light"
     },
     "output_type": "display_data"
    }
   ],
   "source": [
    "stock_data[['Close', 'Open', 'Volume']].plot(secondary_y=\"Volume\")"
   ]
  },
  {
   "cell_type": "code",
   "execution_count": 84,
   "metadata": {},
   "outputs": [],
   "source": [
    "fut_data = data = get_history(symbol='SBIN',\n",
    "                   start=date(2015,1,1),\n",
    "                   end=date(2015,1,10), futures=True, expiry_date=date(2015,1,29))"
   ]
  },
  {
   "cell_type": "code",
   "execution_count": 85,
   "metadata": {},
   "outputs": [
    {
     "data": {
      "text/html": [
       "<div>\n",
       "<style scoped>\n",
       "    .dataframe tbody tr th:only-of-type {\n",
       "        vertical-align: middle;\n",
       "    }\n",
       "\n",
       "    .dataframe tbody tr th {\n",
       "        vertical-align: top;\n",
       "    }\n",
       "\n",
       "    .dataframe thead th {\n",
       "        text-align: right;\n",
       "    }\n",
       "</style>\n",
       "<table border=\"1\" class=\"dataframe\">\n",
       "  <thead>\n",
       "    <tr style=\"text-align: right;\">\n",
       "      <th></th>\n",
       "      <th>Symbol</th>\n",
       "      <th>Expiry</th>\n",
       "      <th>Open</th>\n",
       "      <th>High</th>\n",
       "      <th>Low</th>\n",
       "      <th>Close</th>\n",
       "      <th>Last</th>\n",
       "      <th>Settle Price</th>\n",
       "      <th>Number of Contracts</th>\n",
       "      <th>Turnover</th>\n",
       "      <th>Open Interest</th>\n",
       "      <th>Change in OI</th>\n",
       "      <th>Underlying</th>\n",
       "    </tr>\n",
       "    <tr>\n",
       "      <th>Date</th>\n",
       "      <th></th>\n",
       "      <th></th>\n",
       "      <th></th>\n",
       "      <th></th>\n",
       "      <th></th>\n",
       "      <th></th>\n",
       "      <th></th>\n",
       "      <th></th>\n",
       "      <th></th>\n",
       "      <th></th>\n",
       "      <th></th>\n",
       "      <th></th>\n",
       "      <th></th>\n",
       "    </tr>\n",
       "  </thead>\n",
       "  <tbody>\n",
       "    <tr>\n",
       "      <th>2015-01-01</th>\n",
       "      <td>SBIN</td>\n",
       "      <td>2015-01-29</td>\n",
       "      <td>315.10</td>\n",
       "      <td>317.95</td>\n",
       "      <td>313.40</td>\n",
       "      <td>316.65</td>\n",
       "      <td>317.00</td>\n",
       "      <td>316.65</td>\n",
       "      <td>14720</td>\n",
       "      <td>5.821172e+09</td>\n",
       "      <td>55480000</td>\n",
       "      <td>358750</td>\n",
       "      <td>314.00</td>\n",
       "    </tr>\n",
       "    <tr>\n",
       "      <th>2015-01-02</th>\n",
       "      <td>SBIN</td>\n",
       "      <td>2015-01-29</td>\n",
       "      <td>317.50</td>\n",
       "      <td>320.95</td>\n",
       "      <td>317.10</td>\n",
       "      <td>317.75</td>\n",
       "      <td>318.30</td>\n",
       "      <td>317.75</td>\n",
       "      <td>22525</td>\n",
       "      <td>8.988242e+09</td>\n",
       "      <td>55087500</td>\n",
       "      <td>-392500</td>\n",
       "      <td>315.25</td>\n",
       "    </tr>\n",
       "    <tr>\n",
       "      <th>2015-01-05</th>\n",
       "      <td>SBIN</td>\n",
       "      <td>2015-01-29</td>\n",
       "      <td>318.00</td>\n",
       "      <td>318.75</td>\n",
       "      <td>314.10</td>\n",
       "      <td>315.00</td>\n",
       "      <td>315.05</td>\n",
       "      <td>315.00</td>\n",
       "      <td>17455</td>\n",
       "      <td>6.898723e+09</td>\n",
       "      <td>55718750</td>\n",
       "      <td>631250</td>\n",
       "      <td>312.75</td>\n",
       "    </tr>\n",
       "    <tr>\n",
       "      <th>2015-01-06</th>\n",
       "      <td>SBIN</td>\n",
       "      <td>2015-01-29</td>\n",
       "      <td>312.95</td>\n",
       "      <td>312.95</td>\n",
       "      <td>300.10</td>\n",
       "      <td>301.30</td>\n",
       "      <td>301.10</td>\n",
       "      <td>301.30</td>\n",
       "      <td>29338</td>\n",
       "      <td>1.126715e+10</td>\n",
       "      <td>56701250</td>\n",
       "      <td>982500</td>\n",
       "      <td>299.90</td>\n",
       "    </tr>\n",
       "    <tr>\n",
       "      <th>2015-01-07</th>\n",
       "      <td>SBIN</td>\n",
       "      <td>2015-01-29</td>\n",
       "      <td>301.95</td>\n",
       "      <td>304.55</td>\n",
       "      <td>297.35</td>\n",
       "      <td>302.25</td>\n",
       "      <td>303.50</td>\n",
       "      <td>302.25</td>\n",
       "      <td>28489</td>\n",
       "      <td>1.074823e+10</td>\n",
       "      <td>58036250</td>\n",
       "      <td>1335000</td>\n",
       "      <td>300.15</td>\n",
       "    </tr>\n",
       "  </tbody>\n",
       "</table>\n",
       "</div>"
      ],
      "text/plain": [
       "           Symbol      Expiry    Open    High     Low   Close    Last  \\\n",
       "Date                                                                    \n",
       "2015-01-01   SBIN  2015-01-29  315.10  317.95  313.40  316.65  317.00   \n",
       "2015-01-02   SBIN  2015-01-29  317.50  320.95  317.10  317.75  318.30   \n",
       "2015-01-05   SBIN  2015-01-29  318.00  318.75  314.10  315.00  315.05   \n",
       "2015-01-06   SBIN  2015-01-29  312.95  312.95  300.10  301.30  301.10   \n",
       "2015-01-07   SBIN  2015-01-29  301.95  304.55  297.35  302.25  303.50   \n",
       "\n",
       "            Settle Price  Number of Contracts      Turnover  Open Interest  \\\n",
       "Date                                                                         \n",
       "2015-01-01        316.65                14720  5.821172e+09       55480000   \n",
       "2015-01-02        317.75                22525  8.988242e+09       55087500   \n",
       "2015-01-05        315.00                17455  6.898723e+09       55718750   \n",
       "2015-01-06        301.30                29338  1.126715e+10       56701250   \n",
       "2015-01-07        302.25                28489  1.074823e+10       58036250   \n",
       "\n",
       "            Change in OI  Underlying  \n",
       "Date                                  \n",
       "2015-01-01        358750      314.00  \n",
       "2015-01-02       -392500      315.25  \n",
       "2015-01-05        631250      312.75  \n",
       "2015-01-06        982500      299.90  \n",
       "2015-01-07       1335000      300.15  "
      ]
     },
     "execution_count": 85,
     "metadata": {},
     "output_type": "execute_result"
    }
   ],
   "source": [
    "fut_data.head()"
   ]
  },
  {
   "cell_type": "code",
   "execution_count": 86,
   "metadata": {},
   "outputs": [
    {
     "data": {
      "text/plain": [
       "<matplotlib.axes._subplots.AxesSubplot at 0xc6d14b0>"
      ]
     },
     "execution_count": 86,
     "metadata": {},
     "output_type": "execute_result"
    },
    {
     "data": {
      "image/png": "[encoded data removed]",
      "text/plain": [
       "<Figure size 432x288 with 1 Axes>"
      ]
     },
     "metadata": {
      "needs_background": "light"
     },
     "output_type": "display_data"
    }
   ],
   "source": [
    "fut_data[['Close', 'Underlying']].plot(secondary_y=\"Volume\")"
   ]
  },
  {
   "cell_type": "code",
   "execution_count": 87,
   "metadata": {},
   "outputs": [
    {
     "data": {
      "text/plain": [
       "[<matplotlib.lines.Line2D at 0xc6dc6f0>]"
      ]
     },
     "execution_count": 87,
     "metadata": {},
     "output_type": "execute_result"
    },
    {
     "data": {
      "image/png": "[encoded data removed]",
      "text/plain": [
       "<Figure size 432x288 with 1 Axes>"
      ]
     },
     "metadata": {
      "needs_background": "light"
     },
     "output_type": "display_data"
    }
   ],
   "source": [
    "fut_data[\"change\"] = np.log(fut_data[\"Close\"] / fut_data[\"Close\"].shift())\n",
    "plt.plot(fut_data.change)"
   ]
  },
  {
   "cell_type": "code",
   "execution_count": 88,
   "metadata": {},
   "outputs": [],
   "source": [
    "from sklearn import linear_model\n",
    "from sklearn.model_selection import train_test_split"
   ]
  },
  {
   "cell_type": "code",
   "execution_count": 95,
   "metadata": {},
   "outputs": [
    {
     "data": {
      "text/html": [
       "<div>\n",
       "<style scoped>\n",
       "    .dataframe tbody tr th:only-of-type {\n",
       "        vertical-align: middle;\n",
       "    }\n",
       "\n",
       "    .dataframe tbody tr th {\n",
       "        vertical-align: top;\n",
       "    }\n",
       "\n",
       "    .dataframe thead th {\n",
       "        text-align: right;\n",
       "    }\n",
       "</style>\n",
       "<table border=\"1\" class=\"dataframe\">\n",
       "  <thead>\n",
       "    <tr style=\"text-align: right;\">\n",
       "      <th></th>\n",
       "      <th>Symbol</th>\n",
       "      <th>Expiry</th>\n",
       "      <th>Open</th>\n",
       "      <th>High</th>\n",
       "      <th>Low</th>\n",
       "      <th>Close</th>\n",
       "      <th>Last</th>\n",
       "      <th>Settle Price</th>\n",
       "      <th>Number of Contracts</th>\n",
       "      <th>Turnover</th>\n",
       "      <th>Open Interest</th>\n",
       "      <th>Change in OI</th>\n",
       "      <th>Underlying</th>\n",
       "      <th>change</th>\n",
       "    </tr>\n",
       "    <tr>\n",
       "      <th>Date</th>\n",
       "      <th></th>\n",
       "      <th></th>\n",
       "      <th></th>\n",
       "      <th></th>\n",
       "      <th></th>\n",
       "      <th></th>\n",
       "      <th></th>\n",
       "      <th></th>\n",
       "      <th></th>\n",
       "      <th></th>\n",
       "      <th></th>\n",
       "      <th></th>\n",
       "      <th></th>\n",
       "      <th></th>\n",
       "    </tr>\n",
       "  </thead>\n",
       "  <tbody>\n",
       "    <tr>\n",
       "      <th>2015-01-01</th>\n",
       "      <td>SBIN</td>\n",
       "      <td>2015-01-29</td>\n",
       "      <td>315.10</td>\n",
       "      <td>317.95</td>\n",
       "      <td>313.40</td>\n",
       "      <td>316.65</td>\n",
       "      <td>317.00</td>\n",
       "      <td>316.65</td>\n",
       "      <td>14720</td>\n",
       "      <td>5.821172e+09</td>\n",
       "      <td>55480000</td>\n",
       "      <td>358750</td>\n",
       "      <td>314.00</td>\n",
       "      <td>NaN</td>\n",
       "    </tr>\n",
       "    <tr>\n",
       "      <th>2015-01-02</th>\n",
       "      <td>SBIN</td>\n",
       "      <td>2015-01-29</td>\n",
       "      <td>317.50</td>\n",
       "      <td>320.95</td>\n",
       "      <td>317.10</td>\n",
       "      <td>317.75</td>\n",
       "      <td>318.30</td>\n",
       "      <td>317.75</td>\n",
       "      <td>22525</td>\n",
       "      <td>8.988242e+09</td>\n",
       "      <td>55087500</td>\n",
       "      <td>-392500</td>\n",
       "      <td>315.25</td>\n",
       "      <td>0.003468</td>\n",
       "    </tr>\n",
       "    <tr>\n",
       "      <th>2015-01-05</th>\n",
       "      <td>SBIN</td>\n",
       "      <td>2015-01-29</td>\n",
       "      <td>318.00</td>\n",
       "      <td>318.75</td>\n",
       "      <td>314.10</td>\n",
       "      <td>315.00</td>\n",
       "      <td>315.05</td>\n",
       "      <td>315.00</td>\n",
       "      <td>17455</td>\n",
       "      <td>6.898723e+09</td>\n",
       "      <td>55718750</td>\n",
       "      <td>631250</td>\n",
       "      <td>312.75</td>\n",
       "      <td>-0.008692</td>\n",
       "    </tr>\n",
       "    <tr>\n",
       "      <th>2015-01-06</th>\n",
       "      <td>SBIN</td>\n",
       "      <td>2015-01-29</td>\n",
       "      <td>312.95</td>\n",
       "      <td>312.95</td>\n",
       "      <td>300.10</td>\n",
       "      <td>301.30</td>\n",
       "      <td>301.10</td>\n",
       "      <td>301.30</td>\n",
       "      <td>29338</td>\n",
       "      <td>1.126715e+10</td>\n",
       "      <td>56701250</td>\n",
       "      <td>982500</td>\n",
       "      <td>299.90</td>\n",
       "      <td>-0.044466</td>\n",
       "    </tr>\n",
       "    <tr>\n",
       "      <th>2015-01-07</th>\n",
       "      <td>SBIN</td>\n",
       "      <td>2015-01-29</td>\n",
       "      <td>301.95</td>\n",
       "      <td>304.55</td>\n",
       "      <td>297.35</td>\n",
       "      <td>302.25</td>\n",
       "      <td>303.50</td>\n",
       "      <td>302.25</td>\n",
       "      <td>28489</td>\n",
       "      <td>1.074823e+10</td>\n",
       "      <td>58036250</td>\n",
       "      <td>1335000</td>\n",
       "      <td>300.15</td>\n",
       "      <td>0.003148</td>\n",
       "    </tr>\n",
       "    <tr>\n",
       "      <th>2015-01-08</th>\n",
       "      <td>SBIN</td>\n",
       "      <td>2015-01-29</td>\n",
       "      <td>306.50</td>\n",
       "      <td>308.40</td>\n",
       "      <td>303.70</td>\n",
       "      <td>306.65</td>\n",
       "      <td>307.00</td>\n",
       "      <td>306.65</td>\n",
       "      <td>20120</td>\n",
       "      <td>7.702653e+09</td>\n",
       "      <td>57287500</td>\n",
       "      <td>-748750</td>\n",
       "      <td>304.85</td>\n",
       "      <td>0.014453</td>\n",
       "    </tr>\n",
       "    <tr>\n",
       "      <th>2015-01-09</th>\n",
       "      <td>SBIN</td>\n",
       "      <td>2015-01-29</td>\n",
       "      <td>306.75</td>\n",
       "      <td>309.25</td>\n",
       "      <td>301.05</td>\n",
       "      <td>304.75</td>\n",
       "      <td>304.15</td>\n",
       "      <td>304.75</td>\n",
       "      <td>18961</td>\n",
       "      <td>7.247211e+09</td>\n",
       "      <td>57035000</td>\n",
       "      <td>-252500</td>\n",
       "      <td>303.20</td>\n",
       "      <td>-0.006215</td>\n",
       "    </tr>\n",
       "  </tbody>\n",
       "</table>\n",
       "</div>"
      ],
      "text/plain": [
       "           Symbol      Expiry    Open    High     Low   Close    Last  \\\n",
       "Date                                                                    \n",
       "2015-01-01   SBIN  2015-01-29  315.10  317.95  313.40  316.65  317.00   \n",
       "2015-01-02   SBIN  2015-01-29  317.50  320.95  317.10  317.75  318.30   \n",
       "2015-01-05   SBIN  2015-01-29  318.00  318.75  314.10  315.00  315.05   \n",
       "2015-01-06   SBIN  2015-01-29  312.95  312.95  300.10  301.30  301.10   \n",
       "2015-01-07   SBIN  2015-01-29  301.95  304.55  297.35  302.25  303.50   \n",
       "2015-01-08   SBIN  2015-01-29  306.50  308.40  303.70  306.65  307.00   \n",
       "2015-01-09   SBIN  2015-01-29  306.75  309.25  301.05  304.75  304.15   \n",
       "\n",
       "            Settle Price  Number of Contracts      Turnover  Open Interest  \\\n",
       "Date                                                                         \n",
       "2015-01-01        316.65                14720  5.821172e+09       55480000   \n",
       "2015-01-02        317.75                22525  8.988242e+09       55087500   \n",
       "2015-01-05        315.00                17455  6.898723e+09       55718750   \n",
       "2015-01-06        301.30                29338  1.126715e+10       56701250   \n",
       "2015-01-07        302.25                28489  1.074823e+10       58036250   \n",
       "2015-01-08        306.65                20120  7.702653e+09       57287500   \n",
       "2015-01-09        304.75                18961  7.247211e+09       57035000   \n",
       "\n",
       "            Change in OI  Underlying    change  \n",
       "Date                                            \n",
       "2015-01-01        358750      314.00       NaN  \n",
       "2015-01-02       -392500      315.25  0.003468  \n",
       "2015-01-05        631250      312.75 -0.008692  \n",
       "2015-01-06        982500      299.90 -0.044466  \n",
       "2015-01-07       1335000      300.15  0.003148  \n",
       "2015-01-08       -748750      304.85  0.014453  \n",
       "2015-01-09       -252500      303.20 -0.006215  "
      ]
     },
     "execution_count": 95,
     "metadata": {},
     "output_type": "execute_result"
    }
   ],
   "source": [
    "fut_data"
   ]
  },
  {
   "cell_type": "code",
   "execution_count": 159,
   "metadata": {},
   "outputs": [],
   "source": [
    "fut_data_x = pd.DataFrame(stock_data.columns)\n",
    "fut_data_y = pd.DataFrame(fut_data.columns)"
   ]
  },
  {
   "cell_type": "code",
   "execution_count": 160,
   "metadata": {},
   "outputs": [],
   "source": [
    "reg = linear_model.LinearRegression()"
   ]
  },
  {
   "cell_type": "code",
   "execution_count": 161,
   "metadata": {},
   "outputs": [],
   "source": [
    "fut_data_x_train, fut_data_y_train, fut_data_x_test, fut_data_y_test = train_test_split(fut_data_x, fut_data_y, random_state=4)"
   ]
  },
  {
   "cell_type": "code",
   "execution_count": 162,
   "metadata": {},
   "outputs": [
    {
     "data": {
      "text/html": [
       "<div>\n",
       "<style scoped>\n",
       "    .dataframe tbody tr th:only-of-type {\n",
       "        vertical-align: middle;\n",
       "    }\n",
       "\n",
       "    .dataframe tbody tr th {\n",
       "        vertical-align: top;\n",
       "    }\n",
       "\n",
       "    .dataframe thead th {\n",
       "        text-align: right;\n",
       "    }\n",
       "</style>\n",
       "<table border=\"1\" class=\"dataframe\">\n",
       "  <thead>\n",
       "    <tr style=\"text-align: right;\">\n",
       "      <th></th>\n",
       "      <th>Symbol</th>\n",
       "      <th>Expiry</th>\n",
       "      <th>Open</th>\n",
       "      <th>High</th>\n",
       "      <th>Low</th>\n",
       "      <th>Close</th>\n",
       "      <th>Last</th>\n",
       "      <th>Settle Price</th>\n",
       "      <th>Number of Contracts</th>\n",
       "      <th>Turnover</th>\n",
       "      <th>Open Interest</th>\n",
       "      <th>Change in OI</th>\n",
       "      <th>Underlying</th>\n",
       "      <th>change</th>\n",
       "    </tr>\n",
       "    <tr>\n",
       "      <th>Date</th>\n",
       "      <th></th>\n",
       "      <th></th>\n",
       "      <th></th>\n",
       "      <th></th>\n",
       "      <th></th>\n",
       "      <th></th>\n",
       "      <th></th>\n",
       "      <th></th>\n",
       "      <th></th>\n",
       "      <th></th>\n",
       "      <th></th>\n",
       "      <th></th>\n",
       "      <th></th>\n",
       "      <th></th>\n",
       "    </tr>\n",
       "  </thead>\n",
       "  <tbody>\n",
       "    <tr>\n",
       "      <th>2015-01-06</th>\n",
       "      <td>SBIN</td>\n",
       "      <td>2015-01-29</td>\n",
       "      <td>312.95</td>\n",
       "      <td>312.95</td>\n",
       "      <td>300.1</td>\n",
       "      <td>301.30</td>\n",
       "      <td>301.10</td>\n",
       "      <td>301.30</td>\n",
       "      <td>29338</td>\n",
       "      <td>1.126715e+10</td>\n",
       "      <td>56701250</td>\n",
       "      <td>982500</td>\n",
       "      <td>299.90</td>\n",
       "      <td>-0.044466</td>\n",
       "    </tr>\n",
       "    <tr>\n",
       "      <th>2015-01-01</th>\n",
       "      <td>SBIN</td>\n",
       "      <td>2015-01-29</td>\n",
       "      <td>315.10</td>\n",
       "      <td>317.95</td>\n",
       "      <td>313.4</td>\n",
       "      <td>316.65</td>\n",
       "      <td>317.00</td>\n",
       "      <td>316.65</td>\n",
       "      <td>14720</td>\n",
       "      <td>5.821172e+09</td>\n",
       "      <td>55480000</td>\n",
       "      <td>358750</td>\n",
       "      <td>314.00</td>\n",
       "      <td>NaN</td>\n",
       "    </tr>\n",
       "    <tr>\n",
       "      <th>2015-01-02</th>\n",
       "      <td>SBIN</td>\n",
       "      <td>2015-01-29</td>\n",
       "      <td>317.50</td>\n",
       "      <td>320.95</td>\n",
       "      <td>317.1</td>\n",
       "      <td>317.75</td>\n",
       "      <td>318.30</td>\n",
       "      <td>317.75</td>\n",
       "      <td>22525</td>\n",
       "      <td>8.988242e+09</td>\n",
       "      <td>55087500</td>\n",
       "      <td>-392500</td>\n",
       "      <td>315.25</td>\n",
       "      <td>0.003468</td>\n",
       "    </tr>\n",
       "    <tr>\n",
       "      <th>2015-01-08</th>\n",
       "      <td>SBIN</td>\n",
       "      <td>2015-01-29</td>\n",
       "      <td>306.50</td>\n",
       "      <td>308.40</td>\n",
       "      <td>303.7</td>\n",
       "      <td>306.65</td>\n",
       "      <td>307.00</td>\n",
       "      <td>306.65</td>\n",
       "      <td>20120</td>\n",
       "      <td>7.702653e+09</td>\n",
       "      <td>57287500</td>\n",
       "      <td>-748750</td>\n",
       "      <td>304.85</td>\n",
       "      <td>0.014453</td>\n",
       "    </tr>\n",
       "    <tr>\n",
       "      <th>2015-01-05</th>\n",
       "      <td>SBIN</td>\n",
       "      <td>2015-01-29</td>\n",
       "      <td>318.00</td>\n",
       "      <td>318.75</td>\n",
       "      <td>314.1</td>\n",
       "      <td>315.00</td>\n",
       "      <td>315.05</td>\n",
       "      <td>315.00</td>\n",
       "      <td>17455</td>\n",
       "      <td>6.898723e+09</td>\n",
       "      <td>55718750</td>\n",
       "      <td>631250</td>\n",
       "      <td>312.75</td>\n",
       "      <td>-0.008692</td>\n",
       "    </tr>\n",
       "  </tbody>\n",
       "</table>\n",
       "</div>"
      ],
      "text/plain": [
       "           Symbol      Expiry    Open    High    Low   Close    Last  \\\n",
       "Date                                                                   \n",
       "2015-01-06   SBIN  2015-01-29  312.95  312.95  300.1  301.30  301.10   \n",
       "2015-01-01   SBIN  2015-01-29  315.10  317.95  313.4  316.65  317.00   \n",
       "2015-01-02   SBIN  2015-01-29  317.50  320.95  317.1  317.75  318.30   \n",
       "2015-01-08   SBIN  2015-01-29  306.50  308.40  303.7  306.65  307.00   \n",
       "2015-01-05   SBIN  2015-01-29  318.00  318.75  314.1  315.00  315.05   \n",
       "\n",
       "            Settle Price  Number of Contracts      Turnover  Open Interest  \\\n",
       "Date                                                                         \n",
       "2015-01-06        301.30                29338  1.126715e+10       56701250   \n",
       "2015-01-01        316.65                14720  5.821172e+09       55480000   \n",
       "2015-01-02        317.75                22525  8.988242e+09       55087500   \n",
       "2015-01-08        306.65                20120  7.702653e+09       57287500   \n",
       "2015-01-05        315.00                17455  6.898723e+09       55718750   \n",
       "\n",
       "            Change in OI  Underlying    change  \n",
       "Date                                            \n",
       "2015-01-06        982500      299.90 -0.044466  \n",
       "2015-01-01        358750      314.00       NaN  \n",
       "2015-01-02       -392500      315.25  0.003468  \n",
       "2015-01-08       -748750      304.85  0.014453  \n",
       "2015-01-05        631250      312.75 -0.008692  "
      ]
     },
     "execution_count": 162,
     "metadata": {},
     "output_type": "execute_result"
    }
   ],
   "source": [
    "fut_data_train.head()"
   ]
  },
  {
   "cell_type": "code",
   "execution_count": 163,
   "metadata": {},
   "outputs": [
    {
     "ename": "ValueError",
     "evalue": "could not convert string to float: 'Turnover'",
     "output_type": "error",
     "traceback": [
      "\u001b[1;31m---------------------------------------------------------------------------\u001b[0m",
      "\u001b[1;31mValueError\u001b[0m                                Traceback (most recent call last)",
      "\u001b[1;32m<ipython-input-163-cc70ffbddf70>\u001b[0m in \u001b[0;36m<module>\u001b[1;34m\u001b[0m\n\u001b[1;32m----> 1\u001b[1;33m \u001b[0mreg\u001b[0m\u001b[1;33m.\u001b[0m\u001b[0mfit\u001b[0m\u001b[1;33m(\u001b[0m\u001b[0mfut_data_x_train\u001b[0m\u001b[1;33m,\u001b[0m \u001b[0mfut_data_y_train\u001b[0m\u001b[1;33m)\u001b[0m\u001b[1;33m\u001b[0m\u001b[0m\n\u001b[0m",
      "\u001b[1;32mc:\\users\\noel4\\appdata\\local\\programs\\python\\python36-32\\lib\\site-packages\\sklearn\\linear_model\\base.py\u001b[0m in \u001b[0;36mfit\u001b[1;34m(self, X, y, sample_weight)\u001b[0m\n\u001b[0;32m    456\u001b[0m         \u001b[0mn_jobs_\u001b[0m \u001b[1;33m=\u001b[0m \u001b[0mself\u001b[0m\u001b[1;33m.\u001b[0m\u001b[0mn_jobs\u001b[0m\u001b[1;33m\u001b[0m\u001b[0m\n\u001b[0;32m    457\u001b[0m         X, y = check_X_y(X, y, accept_sparse=['csr', 'csc', 'coo'],\n\u001b[1;32m--> 458\u001b[1;33m                          y_numeric=True, multi_output=True)\n\u001b[0m\u001b[0;32m    459\u001b[0m \u001b[1;33m\u001b[0m\u001b[0m\n\u001b[0;32m    460\u001b[0m         \u001b[1;32mif\u001b[0m \u001b[0msample_weight\u001b[0m \u001b[1;32mis\u001b[0m \u001b[1;32mnot\u001b[0m \u001b[1;32mNone\u001b[0m \u001b[1;32mand\u001b[0m \u001b[0mnp\u001b[0m\u001b[1;33m.\u001b[0m\u001b[0matleast_1d\u001b[0m\u001b[1;33m(\u001b[0m\u001b[0msample_weight\u001b[0m\u001b[1;33m)\u001b[0m\u001b[1;33m.\u001b[0m\u001b[0mndim\u001b[0m \u001b[1;33m>\u001b[0m \u001b[1;36m1\u001b[0m\u001b[1;33m:\u001b[0m\u001b[1;33m\u001b[0m\u001b[0m\n",
      "\u001b[1;32mc:\\users\\noel4\\appdata\\local\\programs\\python\\python36-32\\lib\\site-packages\\sklearn\\utils\\validation.py\u001b[0m in \u001b[0;36mcheck_X_y\u001b[1;34m(X, y, accept_sparse, accept_large_sparse, dtype, order, copy, force_all_finite, ensure_2d, allow_nd, multi_output, ensure_min_samples, ensure_min_features, y_numeric, warn_on_dtype, estimator)\u001b[0m\n\u001b[0;32m    745\u001b[0m                     \u001b[0mensure_min_features\u001b[0m\u001b[1;33m=\u001b[0m\u001b[0mensure_min_features\u001b[0m\u001b[1;33m,\u001b[0m\u001b[1;33m\u001b[0m\u001b[0m\n\u001b[0;32m    746\u001b[0m                     \u001b[0mwarn_on_dtype\u001b[0m\u001b[1;33m=\u001b[0m\u001b[0mwarn_on_dtype\u001b[0m\u001b[1;33m,\u001b[0m\u001b[1;33m\u001b[0m\u001b[0m\n\u001b[1;32m--> 747\u001b[1;33m                     estimator=estimator)\n\u001b[0m\u001b[0;32m    748\u001b[0m     \u001b[1;32mif\u001b[0m \u001b[0mmulti_output\u001b[0m\u001b[1;33m:\u001b[0m\u001b[1;33m\u001b[0m\u001b[0m\n\u001b[0;32m    749\u001b[0m         y = check_array(y, 'csr', force_all_finite=True, ensure_2d=False,\n",
      "\u001b[1;32mc:\\users\\noel4\\appdata\\local\\programs\\python\\python36-32\\lib\\site-packages\\sklearn\\utils\\validation.py\u001b[0m in \u001b[0;36mcheck_array\u001b[1;34m(array, accept_sparse, accept_large_sparse, dtype, order, copy, force_all_finite, ensure_2d, allow_nd, ensure_min_samples, ensure_min_features, warn_on_dtype, estimator)\u001b[0m\n\u001b[0;32m    560\u001b[0m         \u001b[1;31m# make sure we actually converted to numeric:\u001b[0m\u001b[1;33m\u001b[0m\u001b[1;33m\u001b[0m\u001b[0m\n\u001b[0;32m    561\u001b[0m         \u001b[1;32mif\u001b[0m \u001b[0mdtype_numeric\u001b[0m \u001b[1;32mand\u001b[0m \u001b[0marray\u001b[0m\u001b[1;33m.\u001b[0m\u001b[0mdtype\u001b[0m\u001b[1;33m.\u001b[0m\u001b[0mkind\u001b[0m \u001b[1;33m==\u001b[0m \u001b[1;34m\"O\"\u001b[0m\u001b[1;33m:\u001b[0m\u001b[1;33m\u001b[0m\u001b[0m\n\u001b[1;32m--> 562\u001b[1;33m             \u001b[0marray\u001b[0m \u001b[1;33m=\u001b[0m \u001b[0marray\u001b[0m\u001b[1;33m.\u001b[0m\u001b[0mastype\u001b[0m\u001b[1;33m(\u001b[0m\u001b[0mnp\u001b[0m\u001b[1;33m.\u001b[0m\u001b[0mfloat64\u001b[0m\u001b[1;33m)\u001b[0m\u001b[1;33m\u001b[0m\u001b[0m\n\u001b[0m\u001b[0;32m    563\u001b[0m         \u001b[1;32mif\u001b[0m \u001b[1;32mnot\u001b[0m \u001b[0mallow_nd\u001b[0m \u001b[1;32mand\u001b[0m \u001b[0marray\u001b[0m\u001b[1;33m.\u001b[0m\u001b[0mndim\u001b[0m \u001b[1;33m>=\u001b[0m \u001b[1;36m3\u001b[0m\u001b[1;33m:\u001b[0m\u001b[1;33m\u001b[0m\u001b[0m\n\u001b[0;32m    564\u001b[0m             raise ValueError(\"Found array with dim %d. %s expected <= 2.\"\n",
      "\u001b[1;31mValueError\u001b[0m: could not convert string to float: 'Turnover'"
     ]
    }
   ],
   "source": [
    "reg.fit(fut_data_x_train, fut_data_y_train)"
   ]
  }
 ],
 "metadata": {
  "kernelspec": {
   "display_name": "Python 3",
   "language": "python",
   "name": "python3"
  },
  "language_info": {
   "codemirror_mode": {
    "name": "ipython",
    "version": 3
   },
   "file_extension": ".py",
   "mimetype": "text/x-python",
   "name": "python",
   "nbconvert_exporter": "python",
   "pygments_lexer": "ipython3",
   "version": "3.6.5"
  }
 },
 "nbformat": 4,
 "nbformat_minor": 2
}
